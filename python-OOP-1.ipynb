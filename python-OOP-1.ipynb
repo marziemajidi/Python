{
  "nbformat": 4,
  "nbformat_minor": 0,
  "metadata": {
    "colab": {
      "provenance": [],
      "authorship_tag": "ABX9TyOLURMFv/UOPeU7MFQu+DPa",
      "include_colab_link": true
    },
    "kernelspec": {
      "name": "python3",
      "display_name": "Python 3"
    },
    "language_info": {
      "name": "python"
    }
  },
  "cells": [
    {
      "cell_type": "markdown",
      "metadata": {
        "id": "view-in-github",
        "colab_type": "text"
      },
      "source": [
        "<a href=\"https://colab.research.google.com/github/marziemajidi/Python/blob/Python-OOP/python-OOP-1.ipynb\" target=\"_parent\"><img src=\"https://colab.research.google.com/assets/colab-badge.svg\" alt=\"Open In Colab\"/></a>"
      ]
    },
    {
      "cell_type": "code",
      "execution_count": null,
      "metadata": {
        "id": "i_1co_CrBR7m"
      },
      "outputs": [],
      "source": [
        "1. کلاس و شیء (Class & Object)\n",
        "\n",
        "🔹 کلاس (Class): یک قالب برای ایجاد اشیا (Objects) است.\n",
        "🔹 شیء (Object): نمونه‌ای از یک کلاس که دارای داده‌ها و متدهای مخصوص به خودش است."
      ]
    },
    {
      "cell_type": "code",
      "source": [
        "class Car:\n",
        "    def __init__(self, model, color):\n",
        "        self.model = model\n",
        "        self.color = color\n",
        "\n",
        "    def show_info(self):\n",
        "        print(f\"Car Model: {self.model}, Color: {self.color}\")\n",
        "\n",
        "# ساخت نمونه (Object)\n",
        "car1 = Car(\"Toyota\", \"Red\")\n",
        "car2 = Car(\"BMW\", \"Blue\")\n",
        "\n",
        "car1.show_info()  # خروجی: Car Model: Toyota, Color: Red\n",
        "car2.show_info()  # خروجی: Car Model: BMW, Color: Blue\n"
      ],
      "metadata": {
        "colab": {
          "base_uri": "https://localhost:8080/"
        },
        "id": "DHAYgToaBo82",
        "outputId": "59470237-687a-478d-99e7-50bd83b5d7d4"
      },
      "execution_count": null,
      "outputs": [
        {
          "output_type": "stream",
          "name": "stdout",
          "text": [
            "Car Model: Toyota, Color: Red\n",
            "Car Model: BMW, Color: Blue\n"
          ]
        }
      ]
    }
  ]
}